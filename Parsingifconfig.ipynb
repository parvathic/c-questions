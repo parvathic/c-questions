{
  "nbformat": 4,
  "nbformat_minor": 0,
  "metadata": {
    "colab": {
      "name": "Parsingifconfig.ipynb",
      "version": "0.3.2",
      "provenance": [],
      "collapsed_sections": [],
      "include_colab_link": true
    },
    "kernelspec": {
      "name": "python3",
      "display_name": "Python 3"
    }
  },
  "cells": [
    {
      "cell_type": "markdown",
      "metadata": {
        "id": "view-in-github",
        "colab_type": "text"
      },
      "source": [
        "<a href=\"https://colab.research.google.com/github/parvathic/python-ds-notebooks/blob/master/Parsingifconfig.ipynb\" target=\"_parent\"><img src=\"https://colab.research.google.com/assets/colab-badge.svg\" alt=\"Open In Colab\"/></a>"
      ]
    },
    {
      "cell_type": "code",
      "metadata": {
        "id": "ZP9dgdAPc8yH",
        "colab_type": "code",
        "colab": {}
      },
      "source": [
        "from google.colab import files"
      ],
      "execution_count": 0,
      "outputs": []
    },
    {
      "cell_type": "code",
      "metadata": {
        "id": "NL3o_2IJdnWu",
        "colab_type": "code",
        "colab": {}
      },
      "source": [
        "up = open(r\"op\")\n",
        "#ifconfig -a > op (in linux terminals)"
      ],
      "execution_count": 0,
      "outputs": []
    },
    {
      "cell_type": "code",
      "metadata": {
        "id": "dbqRmWT0drF8",
        "colab_type": "code",
        "colab": {
          "base_uri": "https://localhost:8080/",
          "height": 34
        },
        "outputId": "f458d60b-4485-4d13-c42e-ea7f689e1fde"
      },
      "source": [
        "up"
      ],
      "execution_count": 14,
      "outputs": [
        {
          "output_type": "execute_result",
          "data": {
            "text/plain": [
              "<_io.TextIOWrapper name='op' mode='r' encoding='UTF-8'>"
            ]
          },
          "metadata": {
            "tags": []
          },
          "execution_count": 14
        }
      ]
    },
    {
      "cell_type": "code",
      "metadata": {
        "id": "92q59xdjd-hd",
        "colab_type": "code",
        "colab": {}
      },
      "source": [
        "config = up.read()"
      ],
      "execution_count": 0,
      "outputs": []
    },
    {
      "cell_type": "code",
      "metadata": {
        "id": "oz5cASD2eAxB",
        "colab_type": "code",
        "colab": {
          "base_uri": "https://localhost:8080/",
          "height": 54
        },
        "outputId": "349b358a-2638-4361-e2e3-fd5d841bbdce"
      },
      "source": [
        "\n",
        "config"
      ],
      "execution_count": 23,
      "outputs": [
        {
          "output_type": "execute_result",
          "data": {
            "text/plain": [
              "'lo0: flags=8049<UP,LOOPBACK,RUNNING,MULTICAST> mtu 16384\\n\\toptions=1203<RXCSUM,TXCSUM,TXSTATUS,SW_TIMESTAMP>\\n\\tinet 127.0.0.1 netmask 0xff000000 \\n\\tinet6 ::1 prefixlen 128 \\n\\tinet6 fe80::1%lo0 prefixlen 64 scopeid 0x1 \\n\\tnd6 options=201<PERFORMNUD,DAD>\\ngif0: flags=8010<POINTOPOINT,MULTICAST> mtu 1280\\nstf0: flags=0<> mtu 1280\\nen0: flags=8863<UP,BROADCAST,SMART,RUNNING,SIMPLEX,MULTICAST> mtu 1500\\n\\tether 30:35:ad:ae:99:42 \\n\\tinet6 fe80::4f1:e30e:4372:410f%en0 prefixlen 64 secured scopeid 0x4 \\n\\tinet 192.168.0.46 netmask 0xffffff00 broadcast 192.168.0.255\\n\\tinet6 2601:646:8002:88c0:454:7b5:99ec:4ccc prefixlen 64 autoconf secured \\n\\tinet6 2601:646:8002:88c0:dd47:c576:b1d2:87a prefixlen 64 autoconf temporary \\n\\tnd6 options=201<PERFORMNUD,DAD>\\n\\tmedia: autoselect\\n\\tstatus: active\\nen1: flags=863<UP,BROADCAST,SMART,RUNNING,SIMPLEX> mtu 1500\\n\\toptions=60<TSO4,TSO6>\\n\\tether 9a:00:10:23:41:70 \\n\\tmedia: autoselect <full-duplex>\\n\\tstatus: inactive\\np2p0: flags=8843<UP,BROADCAST,RUNNING,SIMPLEX,MULTICAST> mtu 2304\\n\\tether 02:35:ad:ae:99:42 \\n\\tmedia: autoselect\\n\\tstatus: inactive\\nawdl0: flags=8943<UP,BROADCAST,RUNNING,PROMISC,SIMPLEX,MULTICAST> mtu 1484\\n\\tether 06:d2:f2:7a:a1:44 \\n\\tinet6 fe80::4d2:f2ff:fe7a:a144%awdl0 prefixlen 64 scopeid 0x7 \\n\\tnd6 options=201<PERFORMNUD,DAD>\\n\\tmedia: autoselect\\n\\tstatus: active\\nbridge0: flags=8863<UP,BROADCAST,SMART,RUNNING,SIMPLEX,MULTICAST> mtu 1500\\n\\toptions=63<RXCSUM,TXCSUM,TSO4,TSO6>\\n\\tether 32:35:ad:ea:db:00 \\n\\tConfiguration:\\n\\t\\tid 0:0:0:0:0:0 priority 0 hellotime 0 fwddelay 0\\n\\t\\tmaxage 0 holdcnt 0 proto stp maxaddr 100 timeout 1200\\n\\t\\troot id 0:0:0:0:0:0 priority 0 ifcost 0 port 0\\n\\t\\tipfilter disabled flags 0x2\\n\\tnd6 options=201<PERFORMNUD,DAD>\\n\\tmedia: <unknown type>\\n\\tstatus: inactive\\nutun0: flags=8051<UP,POINTOPOINT,RUNNING,MULTICAST> mtu 2000\\n\\tinet6 fe80::474d:b025:9a77:159b%utun0 prefixlen 64 scopeid 0x9 \\n\\tnd6 options=201<PERFORMNUD,DAD>\\n'"
            ]
          },
          "metadata": {
            "tags": []
          },
          "execution_count": 23
        }
      ]
    },
    {
      "cell_type": "code",
      "metadata": {
        "id": "SvrQxbW6eDca",
        "colab_type": "code",
        "colab": {}
      },
      "source": [
        "n = config.strip().split('\\n')"
      ],
      "execution_count": 0,
      "outputs": []
    },
    {
      "cell_type": "code",
      "metadata": {
        "id": "0gYkwklch_Ml",
        "colab_type": "code",
        "colab": {}
      },
      "source": [
        "import re"
      ],
      "execution_count": 0,
      "outputs": []
    },
    {
      "cell_type": "code",
      "metadata": {
        "id": "Ur0-w82meYbf",
        "colab_type": "code",
        "colab": {}
      },
      "source": [
        "ifconfig = {}\n",
        "for l in n:\n",
        "  line = l.split('\\t')\n",
        "  #line = str(line)\n",
        "  for i in line:\n",
        "    #i = str(i)\n",
        "    #print(i)\n",
        "    key = re.search(r'\\w+', i)\n",
        "    ip = re.search(r'inet.*?\\s(\\d\\d\\d.\\d+?.\\d+?.\\d+?.\\d+?)', i)\n",
        "    #print(key)\n",
        "    #print(ip)\n",
        "    if ip:\n",
        "      ifconfig[key.group()]={'ip':ip.group(1)}\n",
        "    else:\n",
        "      continue\n",
        "         "
      ],
      "execution_count": 0,
      "outputs": []
    },
    {
      "cell_type": "code",
      "metadata": {
        "id": "CSuj10kaeYzz",
        "colab_type": "code",
        "colab": {
          "base_uri": "https://localhost:8080/",
          "height": 34
        },
        "outputId": "89859815-5112-47b2-fe47-4c28872645a8"
      },
      "source": [
        "str = 'lo0: flags=8049<UP,LOOPBACK,RUNNING,MULTICAST> mtu 16384'\n",
        "match = re.search(r'\\w+', str)\n",
        "if match:\n",
        "  print(match.group())"
      ],
      "execution_count": 80,
      "outputs": [
        {
          "output_type": "stream",
          "text": [
            "lo0\n"
          ],
          "name": "stdout"
        }
      ]
    },
    {
      "cell_type": "code",
      "metadata": {
        "id": "deFtFAdme9OP",
        "colab_type": "code",
        "colab": {
          "base_uri": "https://localhost:8080/",
          "height": 34
        },
        "outputId": "c6ddb840-5d96-41da-cd09-01c29e2daaaf"
      },
      "source": [
        "ifconfig"
      ],
      "execution_count": 92,
      "outputs": [
        {
          "output_type": "execute_result",
          "data": {
            "text/plain": [
              "{'inet': {'ip': '192.168.0.4'}}"
            ]
          },
          "metadata": {
            "tags": []
          },
          "execution_count": 92
        }
      ]
    },
    {
      "cell_type": "code",
      "metadata": {
        "id": "CzvIucDGr9Wg",
        "colab_type": "code",
        "colab": {}
      },
      "source": [
        ""
      ],
      "execution_count": 0,
      "outputs": []
    }
  ]
}