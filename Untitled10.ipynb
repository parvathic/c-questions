{
  "nbformat": 4,
  "nbformat_minor": 0,
  "metadata": {
    "colab": {
      "name": "Untitled10.ipynb",
      "version": "0.3.2",
      "provenance": [],
      "collapsed_sections": [],
      "include_colab_link": true
    },
    "kernelspec": {
      "name": "python3",
      "display_name": "Python 3"
    }
  },
  "cells": [
    {
      "cell_type": "markdown",
      "metadata": {
        "id": "view-in-github",
        "colab_type": "text"
      },
      "source": [
        "<a href=\"https://colab.research.google.com/github/parvathic/python-ds/blob/dev3/Untitled10.ipynb\" target=\"_parent\"><img src=\"https://colab.research.google.com/assets/colab-badge.svg\" alt=\"Open In Colab\"/></a>"
      ]
    },
    {
      "metadata": {
        "id": "2UdC4utE9JQG",
        "colab_type": "text"
      },
      "cell_type": "markdown",
      "source": [
        "# Linked List"
      ]
    },
    {
      "metadata": {
        "id": "qzurccsS9LJG",
        "colab_type": "code",
        "colab": {
          "base_uri": "https://localhost:8080/",
          "height": 68
        },
        "outputId": "730d9aea-840e-47db-d2b5-065f6c96fa0a"
      },
      "cell_type": "code",
      "source": [
        "class node:\n",
        "  def __init__(self, data): #creating a node class\n",
        "    self.data= data\n",
        "    self.nextnode=None\n",
        "  \n",
        "class LinkedList: # head of linkedlist\n",
        "  def __init__(self):\n",
        "    self.head=None\n",
        "    \n",
        "  def prlist(self): #func for printing linked list\n",
        "    temp=self.head\n",
        "    while(temp):\n",
        "      print(temp.data)\n",
        "      temp=temp.nextnode\n",
        "      \n",
        "  def pushfrt(self, new_data): #adding a new node in the beginning\n",
        "    new_node=node(new_data)\n",
        "    new_node.nextnode=self.head\n",
        "    self.head=new_node\n",
        "    \n",
        "  def pushmid(self, prev_node, new_data): #adding a new node in the middle\n",
        "    if prev_node is None:\n",
        "      return\n",
        "    new_node=node(new_data)\n",
        "    new_node.nextnode=prev_node.nextnode\n",
        "    prev_node.nextnode=new_node\n",
        "    \n",
        "  def pushend(self, new_data): #adding a new node at the end\n",
        "    new_node=node(new_data)\n",
        "    \n",
        "    if self.head is None:\n",
        "      new_node=self.head\n",
        "      return\n",
        "    \n",
        "    last=self.head\n",
        "    while(last.nextnode):\n",
        "      last=last.nextnode\n",
        "    last.nextnode=new_node\n",
        "    \n",
        "    \n",
        "if __name__=='__main__':\n",
        "  llist=LinkedList()\n",
        "  llist.head=node(1)\n",
        "  second=node(2)\n",
        "  third=node(3)\n",
        "  llist.head.nextnode=second\n",
        "  second.nextnode=third\n",
        "  \n",
        "  llist.prlist()\n"
      ],
      "execution_count": 11,
      "outputs": [
        {
          "output_type": "stream",
          "text": [
            "1\n",
            "2\n",
            "3\n"
          ],
          "name": "stdout"
        }
      ]
    },
    {
      "metadata": {
        "id": "Xy4oD8LlzCHH",
        "colab_type": "code",
        "colab": {
          "base_uri": "https://localhost:8080/",
          "height": 85
        },
        "outputId": "d70bd5db-c564-4077-91f0-393ba7faf4e4"
      },
      "cell_type": "code",
      "source": [
        "if __name__=='__main__':\n",
        "  llist=LinkedList()\n",
        "  first=llist.pushfrt(1)\n",
        "  sec=llist.pushend(5)\n",
        "  third=llist.pushend(7)\n",
        "  fourth=llist.pushmid(llist.head.nextnode,8)\n",
        "  llist.prlist()"
      ],
      "execution_count": 21,
      "outputs": [
        {
          "output_type": "stream",
          "text": [
            "1\n",
            "5\n",
            "8\n",
            "7\n"
          ],
          "name": "stdout"
        }
      ]
    },
    {
      "metadata": {
        "id": "0v8K72xi7-D1",
        "colab_type": "code",
        "colab": {}
      },
      "cell_type": "code",
      "source": [
        ""
      ],
      "execution_count": 0,
      "outputs": []
    }
  ]
}