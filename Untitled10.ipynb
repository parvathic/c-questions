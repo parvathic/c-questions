{
  "nbformat": 4,
  "nbformat_minor": 0,
  "metadata": {
    "colab": {
      "name": "Untitled10.ipynb",
      "version": "0.3.2",
      "provenance": [],
      "collapsed_sections": [],
      "include_colab_link": true
    },
    "kernelspec": {
      "name": "python3",
      "display_name": "Python 3"
    }
  },
  "cells": [
    {
      "cell_type": "markdown",
      "metadata": {
        "id": "view-in-github",
        "colab_type": "text"
      },
      "source": [
        "<a href=\"https://colab.research.google.com/github/parvathic/python-ds/blob/dev3/Untitled10.ipynb\" target=\"_parent\"><img src=\"https://colab.research.google.com/assets/colab-badge.svg\" alt=\"Open In Colab\"/></a>"
      ]
    },
    {
      "metadata": {
        "id": "2UdC4utE9JQG",
        "colab_type": "text"
      },
      "cell_type": "markdown",
      "source": [
        "# Linked List"
      ]
    },
    {
      "metadata": {
        "id": "qzurccsS9LJG",
        "colab_type": "code",
        "colab": {
          "base_uri": "https://localhost:8080/",
          "height": 68
        },
        "outputId": "94a46b47-cd50-45f5-fd2c-27c329e65757"
      },
      "cell_type": "code",
      "source": [
        "class node:\n",
        "  def __init__(self, data): #creating a node class\n",
        "    self.data= data\n",
        "    self.nextnode=None\n",
        "  \n",
        "class LinkedList: # head of linkedlist\n",
        "  def __init__(self):\n",
        "    self.head=None\n",
        "    \n",
        "  def prlist(self): #func for printing linked list\n",
        "    temp=self.head\n",
        "    while(temp):\n",
        "      print(temp.data)\n",
        "      temp=temp.nextnode\n",
        "    \n",
        "if __name__=='__main__':\n",
        "  llist=LinkedList()\n",
        "  llist.head=node(1)\n",
        "  second=node(2)\n",
        "  third=node(3)\n",
        "  llist.head.nextnode=second\n",
        "  second.nextnode=third\n",
        "  \n",
        "  llist.prlist()\n"
      ],
      "execution_count": 10,
      "outputs": [
        {
          "output_type": "stream",
          "text": [
            "1\n",
            "2\n",
            "3\n"
          ],
          "name": "stdout"
        }
      ]
    },
    {
      "metadata": {
        "id": "Xy4oD8LlzCHH",
        "colab_type": "code",
        "colab": {}
      },
      "cell_type": "code",
      "source": [
        ""
      ],
      "execution_count": 0,
      "outputs": []
    }
  ]
}