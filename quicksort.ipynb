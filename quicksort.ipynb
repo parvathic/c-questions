{
  "nbformat": 4,
  "nbformat_minor": 0,
  "metadata": {
    "colab": {
      "name": "quicksort.ipynb",
      "version": "0.3.2",
      "provenance": [],
      "include_colab_link": true
    },
    "kernelspec": {
      "name": "python3",
      "display_name": "Python 3"
    }
  },
  "cells": [
    {
      "cell_type": "markdown",
      "metadata": {
        "id": "view-in-github",
        "colab_type": "text"
      },
      "source": [
        "<a href=\"https://colab.research.google.com/github/parvathic/python-ds-notebooks/blob/dev3/quicksort.ipynb\" target=\"_parent\"><img src=\"https://colab.research.google.com/assets/colab-badge.svg\" alt=\"Open In Colab\"/></a>"
      ]
    },
    {
      "metadata": {
        "id": "Dsa9yc7fezkx",
        "colab_type": "text"
      },
      "cell_type": "markdown",
      "source": [
        "# QUICKSORT"
      ]
    },
    {
      "metadata": {
        "id": "v5RD4qHyewjs",
        "colab_type": "code",
        "colab": {}
      },
      "cell_type": "code",
      "source": [
        "def qsort(arr):\n",
        "  print(\"type of arr:\",arr, type(arr))\n",
        "  if (len(arr)<2):\n",
        "    return arr\n",
        "  ipiv=len(arr)//2\n",
        "  piv=arr[ipiv]\n",
        "  ref=arr[:ipiv]+arr[ipiv+1:]\n",
        "  left=[x for x in ref if x<=piv]\n",
        "  right=[x for x in ref if x>piv]\n",
        "  return qsort(left)+[piv]+qsort(right)"
      ],
      "execution_count": 0,
      "outputs": []
    },
    {
      "metadata": {
        "id": "PBbrXmiaexKw",
        "colab_type": "code",
        "outputId": "d036c33d-7c3a-4395-ea6d-ffad015984a6",
        "colab": {
          "base_uri": "https://localhost:8080/",
          "height": 170
        }
      },
      "cell_type": "code",
      "source": [
        "p=[1,5,4,9,7]\n",
        "print(type(p))\n",
        "print(qsort(p))"
      ],
      "execution_count": 0,
      "outputs": [
        {
          "output_type": "stream",
          "text": [
            "<class 'list'>\n",
            "type of arr: [1, 5, 4, 9, 7] <class 'list'>\n",
            "type of arr: [1] <class 'list'>\n",
            "type of arr: [5, 9, 7] <class 'list'>\n",
            "type of arr: [5, 7] <class 'list'>\n",
            "type of arr: [5] <class 'list'>\n",
            "type of arr: [] <class 'list'>\n",
            "type of arr: [] <class 'list'>\n",
            "[1, 4, 5, 7, 9]\n"
          ],
          "name": "stdout"
        }
      ]
    },
    {
      "metadata": {
        "id": "UAJZ3ynmeyuj",
        "colab_type": "code",
        "colab": {}
      },
      "cell_type": "code",
      "source": [
        ""
      ],
      "execution_count": 0,
      "outputs": []
    }
  ]
}