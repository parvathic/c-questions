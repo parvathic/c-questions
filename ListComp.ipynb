{
  "nbformat": 4,
  "nbformat_minor": 0,
  "metadata": {
    "colab": {
      "name": "ListComp.ipynb",
      "version": "0.3.2",
      "provenance": [],
      "collapsed_sections": [],
      "include_colab_link": true
    },
    "kernelspec": {
      "name": "python3",
      "display_name": "Python 3"
    }
  },
  "cells": [
    {
      "cell_type": "markdown",
      "metadata": {
        "id": "view-in-github",
        "colab_type": "text"
      },
      "source": [
        "<a href=\"https://colab.research.google.com/github/parvathic/python-ds/blob/dev3/ListComp.ipynb\" target=\"_parent\"><img src=\"https://colab.research.google.com/assets/colab-badge.svg\" alt=\"Open In Colab\"/></a>"
      ]
    },
    {
      "metadata": {
        "id": "wwbKcGGWiQLx",
        "colab_type": "text"
      },
      "cell_type": "markdown",
      "source": [
        "Short note on \n",
        "\n",
        "###List Comprehensions:\n",
        "\n",
        "- faster than lambda functions [can be tested using the timeit module]"
      ]
    },
    {
      "metadata": {
        "id": "e6uapp8QiGrE",
        "colab_type": "code",
        "outputId": "fea9a945-cd3e-4a41-dd22-a0d2c05b15f2",
        "colab": {
          "base_uri": "https://localhost:8080/",
          "height": 34
        }
      },
      "cell_type": "code",
      "source": [
        "#Example of lambda:\n",
        "\n",
        "m = [3, 4, 5, 7, 8]\n",
        "feet = list(map(lambda x:3280.8399*x,m))\n",
        "print(feet)"
      ],
      "execution_count": 0,
      "outputs": [
        {
          "output_type": "stream",
          "text": [
            "[9842.5197, 13123.3596, 16404.1995, 22965.8793, 26246.7192]\n"
          ],
          "name": "stdout"
        }
      ]
    },
    {
      "metadata": {
        "id": "hSZr9j1QjgGH",
        "colab_type": "code",
        "outputId": "157e6c49-7622-41df-af65-02b50059633e",
        "colab": {
          "base_uri": "https://localhost:8080/",
          "height": 34
        }
      },
      "cell_type": "code",
      "source": [
        "#Example of listcomp:\n",
        "f=[3280.8399*x for x in m]\n",
        "print(f)"
      ],
      "execution_count": 0,
      "outputs": [
        {
          "output_type": "stream",
          "text": [
            "[9842.5197, 13123.3596, 16404.1995, 22965.8793, 26246.7192]\n"
          ],
          "name": "stdout"
        }
      ]
    },
    {
      "metadata": {
        "id": "CRcVeUUGjl_K",
        "colab_type": "code",
        "outputId": "bae7bd10-6798-4fbb-dc20-60da39ea39e0",
        "colab": {
          "base_uri": "https://localhost:8080/",
          "height": 469
        }
      },
      "cell_type": "code",
      "source": [
        "#Compare:\n",
        "import timeit\n",
        "m = [3, 4, 5, 7, 8]\n",
        "print(timeit.timeit('list(map(lambda x:3280.8399*x, m))'), number=1000)"
      ],
      "execution_count": 0,
      "outputs": [
        {
          "output_type": "error",
          "ename": "NameError",
          "evalue": "ignored",
          "traceback": [
            "\u001b[0;31m---------------------------------------------------------------------------\u001b[0m",
            "\u001b[0;31mNameError\u001b[0m                                 Traceback (most recent call last)",
            "\u001b[0;32m<ipython-input-19-c2d748439859>\u001b[0m in \u001b[0;36m<module>\u001b[0;34m()\u001b[0m\n\u001b[1;32m      1\u001b[0m \u001b[0;32mimport\u001b[0m \u001b[0mtimeit\u001b[0m\u001b[0;34m\u001b[0m\u001b[0;34m\u001b[0m\u001b[0m\n\u001b[1;32m      2\u001b[0m \u001b[0mm\u001b[0m \u001b[0;34m=\u001b[0m \u001b[0;34m[\u001b[0m\u001b[0;36m3\u001b[0m\u001b[0;34m,\u001b[0m \u001b[0;36m4\u001b[0m\u001b[0;34m,\u001b[0m \u001b[0;36m5\u001b[0m\u001b[0;34m,\u001b[0m \u001b[0;36m7\u001b[0m\u001b[0;34m,\u001b[0m \u001b[0;36m8\u001b[0m\u001b[0;34m]\u001b[0m\u001b[0;34m\u001b[0m\u001b[0;34m\u001b[0m\u001b[0m\n\u001b[0;32m----> 3\u001b[0;31m \u001b[0mprint\u001b[0m\u001b[0;34m(\u001b[0m\u001b[0mtimeit\u001b[0m\u001b[0;34m.\u001b[0m\u001b[0mtimeit\u001b[0m\u001b[0;34m(\u001b[0m\u001b[0;34m'list(map(lambda x:3280.8399*x, m))'\u001b[0m\u001b[0;34m)\u001b[0m\u001b[0;34m,\u001b[0m \u001b[0mnumber\u001b[0m\u001b[0;34m=\u001b[0m\u001b[0;36m1000\u001b[0m\u001b[0;34m)\u001b[0m\u001b[0;34m\u001b[0m\u001b[0;34m\u001b[0m\u001b[0m\n\u001b[0m",
            "\u001b[0;32m/usr/lib/python3.6/timeit.py\u001b[0m in \u001b[0;36mtimeit\u001b[0;34m(stmt, setup, timer, number, globals)\u001b[0m\n\u001b[1;32m    231\u001b[0m            number=default_number, globals=None):\n\u001b[1;32m    232\u001b[0m     \u001b[0;34m\"\"\"Convenience function to create Timer object and call timeit method.\"\"\"\u001b[0m\u001b[0;34m\u001b[0m\u001b[0;34m\u001b[0m\u001b[0m\n\u001b[0;32m--> 233\u001b[0;31m     \u001b[0;32mreturn\u001b[0m \u001b[0mTimer\u001b[0m\u001b[0;34m(\u001b[0m\u001b[0mstmt\u001b[0m\u001b[0;34m,\u001b[0m \u001b[0msetup\u001b[0m\u001b[0;34m,\u001b[0m \u001b[0mtimer\u001b[0m\u001b[0;34m,\u001b[0m \u001b[0mglobals\u001b[0m\u001b[0;34m)\u001b[0m\u001b[0;34m.\u001b[0m\u001b[0mtimeit\u001b[0m\u001b[0;34m(\u001b[0m\u001b[0mnumber\u001b[0m\u001b[0;34m)\u001b[0m\u001b[0;34m\u001b[0m\u001b[0;34m\u001b[0m\u001b[0m\n\u001b[0m\u001b[1;32m    234\u001b[0m \u001b[0;34m\u001b[0m\u001b[0m\n\u001b[1;32m    235\u001b[0m def repeat(stmt=\"pass\", setup=\"pass\", timer=default_timer,\n",
            "\u001b[0;32m/usr/lib/python3.6/timeit.py\u001b[0m in \u001b[0;36mtimeit\u001b[0;34m(self, number)\u001b[0m\n\u001b[1;32m    176\u001b[0m         \u001b[0mgc\u001b[0m\u001b[0;34m.\u001b[0m\u001b[0mdisable\u001b[0m\u001b[0;34m(\u001b[0m\u001b[0;34m)\u001b[0m\u001b[0;34m\u001b[0m\u001b[0;34m\u001b[0m\u001b[0m\n\u001b[1;32m    177\u001b[0m         \u001b[0;32mtry\u001b[0m\u001b[0;34m:\u001b[0m\u001b[0;34m\u001b[0m\u001b[0;34m\u001b[0m\u001b[0m\n\u001b[0;32m--> 178\u001b[0;31m             \u001b[0mtiming\u001b[0m \u001b[0;34m=\u001b[0m \u001b[0mself\u001b[0m\u001b[0;34m.\u001b[0m\u001b[0minner\u001b[0m\u001b[0;34m(\u001b[0m\u001b[0mit\u001b[0m\u001b[0;34m,\u001b[0m \u001b[0mself\u001b[0m\u001b[0;34m.\u001b[0m\u001b[0mtimer\u001b[0m\u001b[0;34m)\u001b[0m\u001b[0;34m\u001b[0m\u001b[0;34m\u001b[0m\u001b[0m\n\u001b[0m\u001b[1;32m    179\u001b[0m         \u001b[0;32mfinally\u001b[0m\u001b[0;34m:\u001b[0m\u001b[0;34m\u001b[0m\u001b[0;34m\u001b[0m\u001b[0m\n\u001b[1;32m    180\u001b[0m             \u001b[0;32mif\u001b[0m \u001b[0mgcold\u001b[0m\u001b[0;34m:\u001b[0m\u001b[0;34m\u001b[0m\u001b[0;34m\u001b[0m\u001b[0m\n",
            "\u001b[0;32m/usr/lib/python3.6/timeit.py\u001b[0m in \u001b[0;36minner\u001b[0;34m(_it, _timer)\u001b[0m\n",
            "\u001b[0;31mNameError\u001b[0m: name 'm' is not defined"
          ]
        }
      ]
    },
    {
      "metadata": {
        "id": "zkCkDjsGley6",
        "colab_type": "code",
        "outputId": "4fed66b4-e564-4a45-e0aa-b4e04a5fc10f",
        "colab": {
          "base_uri": "https://localhost:8080/",
          "height": 34
        }
      },
      "cell_type": "code",
      "source": [
        "m = [3, 4, 5, 7, 8]\n",
        "y = 0\n",
        "feet = sum([x for x in m])\n",
        "feet\n"
      ],
      "execution_count": 0,
      "outputs": [
        {
          "output_type": "execute_result",
          "data": {
            "text/plain": [
              "27"
            ]
          },
          "metadata": {
            "tags": []
          },
          "execution_count": 5
        }
      ]
    },
    {
      "metadata": {
        "id": "LC8RgwwovE6C",
        "colab_type": "text"
      },
      "cell_type": "markdown",
      "source": [
        "Multiple if statements"
      ]
    },
    {
      "metadata": {
        "id": "k2ak1T_Rey39",
        "colab_type": "code",
        "colab": {}
      },
      "cell_type": "code",
      "source": [
        "l = [x for x in range(100) if x%2==0 if x%6==0] "
      ],
      "execution_count": 0,
      "outputs": []
    },
    {
      "metadata": {
        "id": "nqW1MfUWhxb2",
        "colab_type": "code",
        "outputId": "06961321-638f-42c8-db1c-2cf4fcb7e745",
        "colab": {
          "base_uri": "https://localhost:8080/",
          "height": 34
        }
      },
      "cell_type": "code",
      "source": [
        "l"
      ],
      "execution_count": 0,
      "outputs": [
        {
          "output_type": "execute_result",
          "data": {
            "text/plain": [
              "[0, 6, 12, 18, 24, 30, 36, 42, 48, 54, 60, 66, 72, 78, 84, 90, 96]"
            ]
          },
          "metadata": {
            "tags": []
          },
          "execution_count": 8
        }
      ]
    },
    {
      "metadata": {
        "id": "SOxPBKxoufsT",
        "colab_type": "text"
      },
      "cell_type": "markdown",
      "source": [
        "For if else statements:\n"
      ]
    },
    {
      "metadata": {
        "id": "JfYijnbsh1xF",
        "colab_type": "code",
        "outputId": "e3db935c-8c1f-484a-fcbc-ce97cb44c7c0",
        "colab": {
          "base_uri": "https://localhost:8080/",
          "height": 1717
        }
      },
      "cell_type": "code",
      "source": [
        "r = [x+2 if x%2==0 else x+6 for x in range(100)]\n",
        "r"
      ],
      "execution_count": 0,
      "outputs": [
        {
          "output_type": "execute_result",
          "data": {
            "text/plain": [
              "[2,\n",
              " 7,\n",
              " 4,\n",
              " 9,\n",
              " 6,\n",
              " 11,\n",
              " 8,\n",
              " 13,\n",
              " 10,\n",
              " 15,\n",
              " 12,\n",
              " 17,\n",
              " 14,\n",
              " 19,\n",
              " 16,\n",
              " 21,\n",
              " 18,\n",
              " 23,\n",
              " 20,\n",
              " 25,\n",
              " 22,\n",
              " 27,\n",
              " 24,\n",
              " 29,\n",
              " 26,\n",
              " 31,\n",
              " 28,\n",
              " 33,\n",
              " 30,\n",
              " 35,\n",
              " 32,\n",
              " 37,\n",
              " 34,\n",
              " 39,\n",
              " 36,\n",
              " 41,\n",
              " 38,\n",
              " 43,\n",
              " 40,\n",
              " 45,\n",
              " 42,\n",
              " 47,\n",
              " 44,\n",
              " 49,\n",
              " 46,\n",
              " 51,\n",
              " 48,\n",
              " 53,\n",
              " 50,\n",
              " 55,\n",
              " 52,\n",
              " 57,\n",
              " 54,\n",
              " 59,\n",
              " 56,\n",
              " 61,\n",
              " 58,\n",
              " 63,\n",
              " 60,\n",
              " 65,\n",
              " 62,\n",
              " 67,\n",
              " 64,\n",
              " 69,\n",
              " 66,\n",
              " 71,\n",
              " 68,\n",
              " 73,\n",
              " 70,\n",
              " 75,\n",
              " 72,\n",
              " 77,\n",
              " 74,\n",
              " 79,\n",
              " 76,\n",
              " 81,\n",
              " 78,\n",
              " 83,\n",
              " 80,\n",
              " 85,\n",
              " 82,\n",
              " 87,\n",
              " 84,\n",
              " 89,\n",
              " 86,\n",
              " 91,\n",
              " 88,\n",
              " 93,\n",
              " 90,\n",
              " 95,\n",
              " 92,\n",
              " 97,\n",
              " 94,\n",
              " 99,\n",
              " 96,\n",
              " 101,\n",
              " 98,\n",
              " 103,\n",
              " 100,\n",
              " 105]"
            ]
          },
          "metadata": {
            "tags": []
          },
          "execution_count": 12
        }
      ]
    },
    {
      "metadata": {
        "id": "99xAA8KuxaAq",
        "colab_type": "text"
      },
      "cell_type": "markdown",
      "source": [
        "For if, elif statements:"
      ]
    },
    {
      "metadata": {
        "id": "If9DQ9U-u55c",
        "colab_type": "code",
        "outputId": "51f2b56b-cb77-47ad-f664-6f487f16ef15",
        "colab": {
          "base_uri": "https://localhost:8080/",
          "height": 102
        }
      },
      "cell_type": "code",
      "source": [
        "#example if elif\n",
        "l = [1, 2, 3, 4, 5]\n",
        "\n",
        "for values in l:\n",
        "    if values==1:\n",
        "        print('yes')\n",
        "    elif values==2:\n",
        "        print('no')\n",
        "    else:\n",
        "        print ('idle')\n",
        "        "
      ],
      "execution_count": 0,
      "outputs": [
        {
          "output_type": "stream",
          "text": [
            "yes\n",
            "no\n",
            "idle\n",
            "idle\n",
            "idle\n"
          ],
          "name": "stdout"
        }
      ]
    },
    {
      "metadata": {
        "id": "7sB8VbxBx4LV",
        "colab_type": "code",
        "outputId": "ffe9a1b2-c370-4398-ff1b-71993ddfaf9c",
        "colab": {
          "base_uri": "https://localhost:8080/",
          "height": 34
        }
      },
      "cell_type": "code",
      "source": [
        "#list comp vers\n",
        "\n",
        "listcomp = ['yes' if values==1 else 'no' if values==2 else 'idle' for values in l]\n",
        "listcomp"
      ],
      "execution_count": 0,
      "outputs": [
        {
          "output_type": "execute_result",
          "data": {
            "text/plain": [
              "['yes', 'no', 'idle', 'idle', 'idle']"
            ]
          },
          "metadata": {
            "tags": []
          },
          "execution_count": 19
        }
      ]
    },
    {
      "metadata": {
        "id": "LQolWfY3-JP1",
        "colab_type": "text"
      },
      "cell_type": "markdown",
      "source": [
        "Nested if loops\n"
      ]
    },
    {
      "metadata": {
        "id": "WvqMEnqH-IsB",
        "colab_type": "code",
        "colab": {
          "base_uri": "https://localhost:8080/",
          "height": 34
        },
        "outputId": "6357022f-cbec-4404-c4d6-7cb13ecc7dcc"
      },
      "cell_type": "code",
      "source": [
        "q=[[1,2],[3,4],[5,6]]\n",
        "listcomp2=[y for x in q for y in x]\n",
        "listcomp2"
      ],
      "execution_count": 4,
      "outputs": [
        {
          "output_type": "execute_result",
          "data": {
            "text/plain": [
              "[1, 2, 3, 4, 5, 6]"
            ]
          },
          "metadata": {
            "tags": []
          },
          "execution_count": 4
        }
      ]
    },
    {
      "metadata": {
        "id": "ZuLwhNR9IcE8",
        "colab_type": "text"
      },
      "cell_type": "markdown",
      "source": [
        "Matrices:"
      ]
    },
    {
      "metadata": {
        "id": "XfT4RUaZyCyM",
        "colab_type": "code",
        "colab": {
          "base_uri": "https://localhost:8080/",
          "height": 34
        },
        "outputId": "324d6eef-6364-47c5-e9b4-0e9b9d82a38c"
      },
      "cell_type": "code",
      "source": [
        "matrix=[[1,2,3], [5,6,7],[5,6,8]]\n",
        "mat=[[row[i] for row in matrix] for i in range(3) ]\n",
        "mat"
      ],
      "execution_count": 7,
      "outputs": [
        {
          "output_type": "execute_result",
          "data": {
            "text/plain": [
              "[[1, 5, 5], [2, 6, 6], [3, 7, 8]]"
            ]
          },
          "metadata": {
            "tags": []
          },
          "execution_count": 7
        }
      ]
    },
    {
      "metadata": {
        "id": "nwe57_PeR-_m",
        "colab_type": "text"
      },
      "cell_type": "markdown",
      "source": [
        "In nested for loop:"
      ]
    },
    {
      "metadata": {
        "id": "5BgGRmsoKtR0",
        "colab_type": "code",
        "colab": {
          "base_uri": "https://localhost:8080/",
          "height": 34
        },
        "outputId": "22f29d83-29b1-4eba-b96e-d9c81acdfc05"
      },
      "cell_type": "code",
      "source": [
        "tps=[]\n",
        "for i in range(3):\n",
        "  tpspart=[]\n",
        "  for row in matrix:\n",
        "    tpspart.append(row[i])\n",
        "  tps.append(tpspart)\n",
        "tps"
      ],
      "execution_count": 9,
      "outputs": [
        {
          "output_type": "execute_result",
          "data": {
            "text/plain": [
              "[[1, 5, 5], [2, 6, 6], [3, 7, 8]]"
            ]
          },
          "metadata": {
            "tags": []
          },
          "execution_count": 9
        }
      ]
    },
    {
      "metadata": {
        "id": "k_0JNXRSLMZi",
        "colab_type": "code",
        "colab": {}
      },
      "cell_type": "code",
      "source": [
        ""
      ],
      "execution_count": 0,
      "outputs": []
    }
  ]
}