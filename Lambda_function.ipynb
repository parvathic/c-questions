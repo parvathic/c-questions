{
  "nbformat": 4,
  "nbformat_minor": 0,
  "metadata": {
    "colab": {
      "name": "Lambda function.ipynb",
      "version": "0.3.2",
      "provenance": [],
      "collapsed_sections": [],
      "include_colab_link": true
    },
    "kernelspec": {
      "name": "python3",
      "display_name": "Python 3"
    }
  },
  "cells": [
    {
      "cell_type": "markdown",
      "metadata": {
        "id": "view-in-github",
        "colab_type": "text"
      },
      "source": [
        "<a href=\"https://colab.research.google.com/github/parvathic/python-ds/blob/master/Lambda_function.ipynb\" target=\"_parent\"><img src=\"https://colab.research.google.com/assets/colab-badge.svg\" alt=\"Open In Colab\"/></a>"
      ]
    },
    {
      "metadata": {
        "id": "7t8YeKYMJdUd",
        "colab_type": "text"
      },
      "cell_type": "markdown",
      "source": [
        "Short note on:\n",
        "\n",
        "###lambda functions"
      ]
    },
    {
      "metadata": {
        "id": "8yf2KoppJ5Ub",
        "colab_type": "text"
      },
      "cell_type": "markdown",
      "source": [
        "Lambda functions are unnamed, short term functions used when there isn't a need to define a function explicitly. Most common in-built functions used with a lambda function are map(), reduce(), filter()"
      ]
    },
    {
      "metadata": {
        "id": "2iG00P7SMs4c",
        "colab_type": "code",
        "colab": {
          "base_uri": "https://localhost:8080/",
          "height": 34
        },
        "outputId": "77278b28-2aac-4711-b0ac-6e15b32f344b"
      },
      "cell_type": "code",
      "source": [
        "#Simple examples:\n",
        "\n",
        "d=lambda x: x**2\n",
        "d(5)"
      ],
      "execution_count": 9,
      "outputs": [
        {
          "output_type": "execute_result",
          "data": {
            "text/plain": [
              "25"
            ]
          },
          "metadata": {
            "tags": []
          },
          "execution_count": 9
        }
      ]
    },
    {
      "metadata": {
        "id": "pW8r32jIJZZK",
        "colab_type": "code",
        "colab": {
          "base_uri": "https://localhost:8080/",
          "height": 68
        },
        "outputId": "7b3548f7-9806-42c2-aefb-0983a2cc24ca"
      },
      "cell_type": "code",
      "source": [
        "#Examples:\n",
        "arr=[2,4,6,8,3,9]\n",
        "\n",
        "#Map: (applies to all elements in a list)\n",
        "arr1=list(map(lambda x:x**2, arr))\n",
        "print(arr1)\n",
        "\n",
        "#Filter: (returns elements that are true for said condition)\n",
        "arr2=list(filter(lambda x: x**2>16,arr))\n",
        "print(arr2)\n",
        "\n",
        "#Reduce: (for a math operator, performing some computation on a list and returning the result)\n",
        "from functools import reduce\n",
        "value=reduce(lambda x,y: x*y,arr)\n",
        "print(value)"
      ],
      "execution_count": 14,
      "outputs": [
        {
          "output_type": "stream",
          "text": [
            "[4, 16, 36, 64, 9, 81]\n",
            "[6, 8, 9]\n",
            "10368\n"
          ],
          "name": "stdout"
        }
      ]
    },
    {
      "metadata": {
        "id": "vfzpFUSgLB3K",
        "colab_type": "code",
        "colab": {}
      },
      "cell_type": "code",
      "source": [
        ""
      ],
      "execution_count": 0,
      "outputs": []
    },
    {
      "metadata": {
        "id": "htrmK-YRSZoI",
        "colab_type": "code",
        "colab": {}
      },
      "cell_type": "code",
      "source": [
        ""
      ],
      "execution_count": 0,
      "outputs": []
    }
  ]
}