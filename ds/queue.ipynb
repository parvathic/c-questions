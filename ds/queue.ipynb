{
  "nbformat": 4,
  "nbformat_minor": 0,
  "metadata": {
    "colab": {
      "name": "queue.ipynb",
      "version": "0.3.2",
      "provenance": [],
      "collapsed_sections": [],
      "include_colab_link": true
    },
    "kernelspec": {
      "name": "python3",
      "display_name": "Python 3"
    }
  },
  "cells": [
    {
      "cell_type": "markdown",
      "metadata": {
        "id": "view-in-github",
        "colab_type": "text"
      },
      "source": [
        "<a href=\"https://colab.research.google.com/github/parvathic/python-ds-notebooks/blob/dev3/queue.ipynb\" target=\"_parent\"><img src=\"https://colab.research.google.com/assets/colab-badge.svg\" alt=\"Open In Colab\"/></a>"
      ]
    },
    {
      "metadata": {
        "id": "XA7YAOV6UlYa",
        "colab_type": "text"
      },
      "cell_type": "markdown",
      "source": [
        "Implementing a queue in python"
      ]
    },
    {
      "metadata": {
        "id": "v6DS2AtfUivh",
        "colab_type": "code",
        "colab": {}
      },
      "cell_type": "code",
      "source": [
        "class queue:\n",
        "  def __init__(self):\n",
        "    self.enq=[]\n",
        "    self.deq=[]\n",
        "   \n",
        "  def push(self, value):\n",
        "    self.enq.append(value)\n",
        "    \n",
        "  def pop(self):\n",
        "    if len(self.enq)<1:\n",
        "      return []\n",
        "    return self.enq.pop(0)\n",
        "    \n",
        "  def peek(self):\n",
        "    if not self.deq:\n",
        "      while self.enq:\n",
        "        self.deq.append(self.enq.pop())\n",
        "      return self.deq[-1]\n",
        "    \n",
        "  def size(self):\n",
        "    return len(self.enq)+len(self.deq)\n",
        "  \n",
        "  def show(self):\n",
        "    return (self.enq+self.deq)"
      ],
      "execution_count": 0,
      "outputs": []
    },
    {
      "metadata": {
        "id": "qn7qGpQTbD-m",
        "colab_type": "code",
        "colab": {
          "base_uri": "https://localhost:8080/",
          "height": 85
        },
        "outputId": "96a91e76-73e1-4051-b9dd-fa115ecb41b2"
      },
      "cell_type": "code",
      "source": [
        "q=queue()\n",
        "q.push(4)\n",
        "q.push(8)\n",
        "print(q.show())\n",
        "q.push(9)\n",
        "q.push(7)\n",
        "q.push(1)\n",
        "print(q.show())\n",
        "\n",
        "print(q.peek())\n",
        "q.pop()\n",
        "#print(q.show())\n",
        "#print(q.size())"
      ],
      "execution_count": 24,
      "outputs": [
        {
          "output_type": "stream",
          "text": [
            "[4, 8]\n",
            "[4, 8, 9, 7, 1]\n",
            "4\n"
          ],
          "name": "stdout"
        },
        {
          "output_type": "execute_result",
          "data": {
            "text/plain": [
              "[]"
            ]
          },
          "metadata": {
            "tags": []
          },
          "execution_count": 24
        }
      ]
    },
    {
      "metadata": {
        "id": "u9dNi0CzdsE4",
        "colab_type": "code",
        "colab": {}
      },
      "cell_type": "code",
      "source": [
        ""
      ],
      "execution_count": 0,
      "outputs": []
    }
  ]
}