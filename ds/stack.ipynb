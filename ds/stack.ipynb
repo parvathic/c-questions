{
  "nbformat": 4,
  "nbformat_minor": 0,
  "metadata": {
    "colab": {
      "name": "stack.ipynb",
      "version": "0.3.2",
      "provenance": [],
      "collapsed_sections": [],
      "include_colab_link": true
    },
    "kernelspec": {
      "name": "python3",
      "display_name": "Python 3"
    }
  },
  "cells": [
    {
      "cell_type": "markdown",
      "metadata": {
        "id": "view-in-github",
        "colab_type": "text"
      },
      "source": [
        "<a href=\"https://colab.research.google.com/github/parvathic/python-ds/blob/master/stack.ipynb\" target=\"_parent\"><img src=\"https://colab.research.google.com/assets/colab-badge.svg\" alt=\"Open In Colab\"/></a>"
      ]
    },
    {
      "metadata": {
        "id": "jSGJCINvMI9Z",
        "colab_type": "text"
      },
      "cell_type": "markdown",
      "source": [
        "###Implementing Stacks in python"
      ]
    },
    {
      "metadata": {
        "id": "7F0rSrd6MIPL",
        "colab_type": "code",
        "colab": {}
      },
      "cell_type": "code",
      "source": [
        "class stack:\n",
        "  def __init__(self):\n",
        "    self.items=[]\n",
        "    \n",
        "  def push(self,value):\n",
        "    self.items.append(value)\n",
        "    \n",
        "  def size(self):\n",
        "    return len(self.items)\n",
        "    \n",
        "  def isEmpty(self):\n",
        "    return self.size()==0\n",
        "  \n",
        "  \n",
        "  def peek(self):\n",
        "    if self.isEmpty():\n",
        "      print('Stack is empty')\n",
        "    else:\n",
        "      return self.items[len(self.items)-1]\n",
        "    \n",
        "  def pop(self):\n",
        "    self.items.pop()\n",
        "    \n",
        "  def show(self):\n",
        "    return self.items"
      ],
      "execution_count": 0,
      "outputs": []
    },
    {
      "metadata": {
        "id": "SsaA6YG6N27J",
        "colab_type": "code",
        "colab": {
          "base_uri": "https://localhost:8080/",
          "height": 68
        },
        "outputId": "b863f2c0-f65f-496c-9557-d43cd99dfdc2"
      },
      "cell_type": "code",
      "source": [
        "if __name__=='__main__':\n",
        "  s=stack()\n",
        "  s.push(6)\n",
        "  s.push(7)\n",
        "  s.push(2)\n",
        "  print(s.show())  \n",
        "  s.pop()\n",
        "  print(s.show())\n",
        "  print(s.peek())"
      ],
      "execution_count": 19,
      "outputs": [
        {
          "output_type": "stream",
          "text": [
            "[6, 7, 2]\n",
            "[6, 7]\n",
            "7\n"
          ],
          "name": "stdout"
        }
      ]
    },
    {
      "metadata": {
        "id": "phbHILflN9nl",
        "colab_type": "code",
        "colab": {}
      },
      "cell_type": "code",
      "source": [
        ""
      ],
      "execution_count": 0,
      "outputs": []
    },
    {
      "metadata": {
        "id": "ENg8CZ2WOAkh",
        "colab_type": "code",
        "colab": {}
      },
      "cell_type": "code",
      "source": [
        ""
      ],
      "execution_count": 0,
      "outputs": []
    }
  ]
}