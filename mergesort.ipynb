{
  "nbformat": 4,
  "nbformat_minor": 0,
  "metadata": {
    "colab": {
      "name": "mergesort.ipynb",
      "version": "0.3.2",
      "provenance": [],
      "collapsed_sections": [],
      "include_colab_link": true
    },
    "kernelspec": {
      "name": "python3",
      "display_name": "Python 3"
    }
  },
  "cells": [
    {
      "cell_type": "markdown",
      "metadata": {
        "id": "view-in-github",
        "colab_type": "text"
      },
      "source": [
        "<a href=\"https://colab.research.google.com/github/parvathic/python-ds/blob/dev3/mergesort.ipynb\" target=\"_parent\"><img src=\"https://colab.research.google.com/assets/colab-badge.svg\" alt=\"Open In Colab\"/></a>"
      ]
    },
    {
      "metadata": {
        "id": "ho5uqeA_qGyJ",
        "colab_type": "text"
      },
      "cell_type": "markdown",
      "source": [
        "# Mergesort"
      ]
    },
    {
      "metadata": {
        "id": "r0lnUD_jWxSC",
        "colab_type": "code",
        "colab": {}
      },
      "cell_type": "code",
      "source": [
        "def mergesort(arr):\n",
        "  print(\"Split\", arr)\n",
        "  if len(arr)>1:\n",
        "    mid=len(arr)//2\n",
        "    lhalf=arr[:mid]\n",
        "    rhalf=arr[mid:]\n",
        "    mergesort(lhalf)\n",
        "    mergesort(rhalf)\n",
        "    \n",
        "    i=j=k=0\n",
        "    #results=[]\n",
        "    while i<len(lhalf) and j<len(rhalf):\n",
        "      if lhalf[i]<rhalf[j]:\n",
        "        arr[k]=lhalf[i]\n",
        "        i+=1\n",
        "      elif lhalf[i]>rhalf[j]:\n",
        "        arr[k]=rhalf[j]\n",
        "        j+=1\n",
        "      k+=1\n",
        "      \n",
        "    while i<len(lhalf):\n",
        "      arr[k]=lhalf[i]\n",
        "      i+=1\n",
        "      k+=1\n",
        "      \n",
        "    while j<len(rhalf):\n",
        "      arr[k]=(rhalf[j])\n",
        "      j+=1\n",
        "      k+=1\n",
        "    return arr\n",
        "  print(\"Merge:\", arr)"
      ],
      "execution_count": 0,
      "outputs": []
    },
    {
      "metadata": {
        "id": "mN2TwV7mgPNL",
        "colab_type": "code",
        "outputId": "d2210bbd-97be-4543-93cc-30df8379e195",
        "colab": {
          "base_uri": "https://localhost:8080/",
          "height": 272
        }
      },
      "cell_type": "code",
      "source": [
        "a=[15,1,3,6,2]\n",
        "print(mergesort(a))"
      ],
      "execution_count": 0,
      "outputs": [
        {
          "output_type": "stream",
          "text": [
            "Split [15, 1, 3, 6, 2]\n",
            "Split [15, 1]\n",
            "Split [15]\n",
            "Merge: [15]\n",
            "Split [1]\n",
            "Merge: [1]\n",
            "Split [3, 6, 2]\n",
            "Split [3]\n",
            "Merge: [3]\n",
            "Split [6, 2]\n",
            "Split [6]\n",
            "Merge: [6]\n",
            "Split [2]\n",
            "Merge: [2]\n",
            "[1, 2, 3, 6, 15]\n"
          ],
          "name": "stdout"
        }
      ]
    },
    {
      "metadata": {
        "id": "ZfkYvqVtgZnS",
        "colab_type": "code",
        "colab": {}
      },
      "cell_type": "code",
      "source": [
        ""
      ],
      "execution_count": 0,
      "outputs": []
    }
  ]
}