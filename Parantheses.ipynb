{
  "nbformat": 4,
  "nbformat_minor": 0,
  "metadata": {
    "colab": {
      "name": "Parantheses.ipynb",
      "version": "0.3.2",
      "provenance": [],
      "include_colab_link": true
    },
    "kernelspec": {
      "name": "python3",
      "display_name": "Python 3"
    }
  },
  "cells": [
    {
      "cell_type": "markdown",
      "metadata": {
        "id": "view-in-github",
        "colab_type": "text"
      },
      "source": [
        "<a href=\"https://colab.research.google.com/github/parvathic/python-ds-notebooks/blob/master/Parantheses.ipynb\" target=\"_parent\"><img src=\"https://colab.research.google.com/assets/colab-badge.svg\" alt=\"Open In Colab\"/></a>"
      ]
    },
    {
      "cell_type": "code",
      "metadata": {
        "id": "jErfxOrPG4aH",
        "colab_type": "code",
        "colab": {}
      },
      "source": [
        "s='123'"
      ],
      "execution_count": 0,
      "outputs": []
    },
    {
      "cell_type": "code",
      "metadata": {
        "id": "NThvm3hzG6aP",
        "colab_type": "code",
        "colab": {}
      },
      "source": [
        "t=s.split(' ')"
      ],
      "execution_count": 0,
      "outputs": []
    },
    {
      "cell_type": "code",
      "metadata": {
        "id": "UdeseKN4G-JT",
        "colab_type": "code",
        "outputId": "7ad7c17f-35d6-49cf-d347-b5c6040e4432",
        "colab": {
          "base_uri": "https://localhost:8080/",
          "height": 34
        }
      },
      "source": [
        "summ=[]\n",
        "for l in s:\n",
        "  summ.append(int(l))\n",
        "summ"
      ],
      "execution_count": 0,
      "outputs": [
        {
          "output_type": "execute_result",
          "data": {
            "text/plain": [
              "[1, 2, 3]"
            ]
          },
          "metadata": {
            "tags": []
          },
          "execution_count": 7
        }
      ]
    },
    {
      "cell_type": "code",
      "metadata": {
        "id": "gxzRSQKKHAW-",
        "colab_type": "code",
        "outputId": "0b59e1f0-b767-4ae5-d012-cf5def5f93d1",
        "colab": {
          "base_uri": "https://localhost:8080/",
          "height": 34
        }
      },
      "source": [
        "sum(summ)"
      ],
      "execution_count": 0,
      "outputs": [
        {
          "output_type": "execute_result",
          "data": {
            "text/plain": [
              "6"
            ]
          },
          "metadata": {
            "tags": []
          },
          "execution_count": 9
        }
      ]
    },
    {
      "cell_type": "code",
      "metadata": {
        "id": "xJELTGtGHj4-",
        "colab_type": "code",
        "colab": {}
      },
      "source": [
        "open_list = [\"[\",\"{\",\"(\"] \n",
        "close_list = [\"]\",\"}\",\")\"] \n",
        "  \n",
        "# Function to check parentheses \n",
        "def check(myStr): \n",
        "    stack = [] \n",
        "    for i in myStr: \n",
        "        if i in open_list: \n",
        "            stack.append(i) \n",
        "        elif i in close_list: \n",
        "            pos = close_list.index(i) \n",
        "            if ((len(stack) > 0) and\n",
        "                (open_list[pos] == stack[len(stack)-1])): \n",
        "                stack.pop() \n",
        "                print(stack)\n",
        "            else: \n",
        "                return \"Unbalanced\"\n",
        "    if len(stack) == 0: \n",
        "        return \"Balanced\""
      ],
      "execution_count": 0,
      "outputs": []
    },
    {
      "cell_type": "code",
      "metadata": {
        "id": "R0uuePLynEsl",
        "colab_type": "code",
        "colab": {}
      },
      "source": [
        "p = '{[]]]])}'"
      ],
      "execution_count": 0,
      "outputs": []
    },
    {
      "cell_type": "code",
      "metadata": {
        "id": "TH9qyjronS6S",
        "colab_type": "code",
        "outputId": "6f91f181-a8c1-4b43-976b-cb362c7cbc50",
        "colab": {
          "base_uri": "https://localhost:8080/",
          "height": 51
        }
      },
      "source": [
        "check(p)"
      ],
      "execution_count": 0,
      "outputs": [
        {
          "output_type": "stream",
          "text": [
            "['{']\n"
          ],
          "name": "stdout"
        },
        {
          "output_type": "execute_result",
          "data": {
            "text/plain": [
              "'Unbalanced'"
            ]
          },
          "metadata": {
            "tags": []
          },
          "execution_count": 19
        }
      ]
    },
    {
      "cell_type": "code",
      "metadata": {
        "id": "oYxXHzrC2sMw",
        "colab_type": "code",
        "colab": {}
      },
      "source": [
        "g = lambda s:s*5\n"
      ],
      "execution_count": 0,
      "outputs": []
    },
    {
      "cell_type": "code",
      "metadata": {
        "id": "J6BFJ7R88VFw",
        "colab_type": "code",
        "outputId": "d4902d73-8235-444a-96c6-007de0089f12",
        "colab": {
          "base_uri": "https://localhost:8080/",
          "height": 34
        }
      },
      "source": [
        "g(5)"
      ],
      "execution_count": 0,
      "outputs": [
        {
          "output_type": "execute_result",
          "data": {
            "text/plain": [
              "25"
            ]
          },
          "metadata": {
            "tags": []
          },
          "execution_count": 22
        }
      ]
    },
    {
      "cell_type": "code",
      "metadata": {
        "id": "ALx8s2su8XuR",
        "colab_type": "code",
        "colab": {}
      },
      "source": [
        ""
      ],
      "execution_count": 0,
      "outputs": []
    },
    {
      "cell_type": "code",
      "metadata": {
        "id": "CHKV1w638-8P",
        "colab_type": "code",
        "colab": {}
      },
      "source": [
        ""
      ],
      "execution_count": 0,
      "outputs": []
    }
  ]
}