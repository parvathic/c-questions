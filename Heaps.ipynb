{
  "nbformat": 4,
  "nbformat_minor": 0,
  "metadata": {
    "colab": {
      "name": "Heaps.ipynb",
      "version": "0.3.2",
      "provenance": [],
      "collapsed_sections": [],
      "include_colab_link": true
    },
    "kernelspec": {
      "name": "python3",
      "display_name": "Python 3"
    }
  },
  "cells": [
    {
      "cell_type": "markdown",
      "metadata": {
        "id": "view-in-github",
        "colab_type": "text"
      },
      "source": [
        "<a href=\"https://colab.research.google.com/github/parvathic/python-ds/blob/dev3/Heaps.ipynb\" target=\"_parent\"><img src=\"https://colab.research.google.com/assets/colab-badge.svg\" alt=\"Open In Colab\"/></a>"
      ]
    },
    {
      "metadata": {
        "id": "fI6b05iDVucj",
        "colab_type": "text"
      },
      "cell_type": "markdown",
      "source": [
        "# Heaps must always follow the heap order property\n",
        "# 1] all level nodes mustt be completely filled and extra nodes can only be in the bottom most left nodes.\n",
        "# 2] they can either be max or min heap and MUST always follow that property. (root node>child nodes and no the left node doesn't need to be greater than the right unlike binary trees.)"
      ]
    },
    {
      "metadata": {
        "id": "11zwL0mcaUaO",
        "colab_type": "code",
        "colab": {}
      },
      "cell_type": "code",
      "source": [
        ""
      ],
      "execution_count": 0,
      "outputs": []
    }
  ]
}