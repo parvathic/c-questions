{
  "nbformat": 4,
  "nbformat_minor": 0,
  "metadata": {
    "colab": {
      "name": "Heaps.ipynb",
      "version": "0.3.2",
      "provenance": [],
      "collapsed_sections": [],
      "include_colab_link": true
    },
    "kernelspec": {
      "name": "python3",
      "display_name": "Python 3"
    }
  },
  "cells": [
    {
      "cell_type": "markdown",
      "metadata": {
        "id": "view-in-github",
        "colab_type": "text"
      },
      "source": [
        "<a href=\"https://colab.research.google.com/github/parvathic/python-ds/blob/dev3/Heaps.ipynb\" target=\"_parent\"><img src=\"https://colab.research.google.com/assets/colab-badge.svg\" alt=\"Open In Colab\"/></a>"
      ]
    },
    {
      "metadata": {
        "id": "fI6b05iDVucj",
        "colab_type": "text"
      },
      "cell_type": "markdown",
      "source": [
        "## Heaps must always follow the heap order property\n",
        "### 1] all level nodes mustt be completely filled and extra nodes can only be in the bottom most left nodes.\n",
        "### 2] they can either be max or min heap and MUST always follow that property. (root node>child nodes and no the left node doesn't need to be greater than the right unlike binary trees.)"
      ]
    },
    {
      "metadata": {
        "id": "s-AFhbUIbNvQ",
        "colab_type": "text"
      },
      "cell_type": "markdown",
      "source": [
        "###Important things to remember:\n",
        "-  2i+1 left node when i is the index of the root node\n",
        "\n",
        "- 2i+2 right node index.\n",
        "\n",
        "-  Index of a parent is (n-1/2)"
      ]
    },
    {
      "metadata": {
        "id": "L58d2hURff5a",
        "colab_type": "text"
      },
      "cell_type": "markdown",
      "source": [
        "###Why heaps?\n",
        "- Heaps are often implemented as arrays because they are super efficient ways of representing priority queues.\n",
        "- A higher priority item will be dequeued before a low prioroty item. \n",
        "- Items of equal priority will be dequeued depending on their order.\n",
        "- Finding max element takes O(1) time and insertion/deletion takes O(log(n)).\n",
        "\n",
        "\n",
        "\n",
        "\n",
        "\n",
        "\n",
        "\n",
        "\n",
        "\n",
        "\n",
        "\n",
        "\n",
        "\n",
        "\n",
        "\n",
        "\n",
        "\n",
        "\n",
        "\n",
        "\n",
        "\n",
        "\n",
        "\n"
      ]
    },
    {
      "metadata": {
        "id": "zE3TRTz7zoKY",
        "colab_type": "text"
      },
      "cell_type": "markdown",
      "source": [
        "###Buildmaxheap function - puts array unto tree format such that the root node is the highest value and subsequent children node in different levels are of lesser value than the parent.\n",
        "\n",
        "###Heapify function - moves root node to the last position and the new swapped (swap with right most node) node on top will also be rearranged so it follows heap order. this repeats till there is only one node left.\n",
        "\n"
      ]
    },
    {
      "metadata": {
        "id": "5zXjYX0JL6r5",
        "colab_type": "text"
      },
      "cell_type": "markdown",
      "source": [
        "#Heapsort"
      ]
    },
    {
      "metadata": {
        "id": "11zwL0mcaUaO",
        "colab_type": "code",
        "colab": {}
      },
      "cell_type": "code",
      "source": [
        "def heapify(arr, s, i): #s here is size of arr\n",
        "  largest=i\n",
        "  l=2*i+1\n",
        "  r=2*i+2\n",
        "  \n",
        "  if l<s and arr[i]<arr[l]:\n",
        "    largest=l\n",
        "    \n",
        "  if r<s and arr[largest]<arr[r]:\n",
        "    largest=r\n",
        "  \n",
        "  if largest!=i:\n",
        "    arr[i],arr[largest]=arr[largest],arr[i]\n",
        "    heapify(arr, s, largest)\n",
        "    \n",
        "def maxheap(arr):\n",
        "  s=len(arr)\n",
        "  \n",
        "  for i in range(s,-1,-1):\n",
        "    heapify(arr, s, i)\n",
        "    \n",
        "  for i in range(s-1,0,-1):\n",
        "    arr[i],arr[0]=arr[0],arr[i]\n",
        "    heapify(arr,i,0)\n",
        "  \n",
        "  return arr\n",
        "  \n",
        "  "
      ],
      "execution_count": 0,
      "outputs": []
    },
    {
      "metadata": {
        "id": "Zs6UylyyNLUu",
        "colab_type": "code",
        "colab": {
          "base_uri": "https://localhost:8080/",
          "height": 34
        },
        "outputId": "6bb0e497-dc97-445a-96cc-c3cb05d05e76"
      },
      "cell_type": "code",
      "source": [
        "arr=[12,5,6,11,9]\n",
        "print(maxheap(arr))"
      ],
      "execution_count": 9,
      "outputs": [
        {
          "output_type": "stream",
          "text": [
            "[5, 6, 9, 11, 12]\n"
          ],
          "name": "stdout"
        }
      ]
    },
    {
      "metadata": {
        "id": "6uC6PIv_PnZz",
        "colab_type": "code",
        "colab": {}
      },
      "cell_type": "code",
      "source": [
        ""
      ],
      "execution_count": 0,
      "outputs": []
    }
  ]
}