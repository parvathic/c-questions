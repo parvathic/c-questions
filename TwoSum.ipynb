{
  "nbformat": 4,
  "nbformat_minor": 0,
  "metadata": {
    "colab": {
      "name": "TwoSum.ipynb",
      "version": "0.3.2",
      "provenance": [],
      "collapsed_sections": [],
      "include_colab_link": true
    },
    "kernelspec": {
      "name": "python3",
      "display_name": "Python 3"
    }
  },
  "cells": [
    {
      "cell_type": "markdown",
      "metadata": {
        "id": "view-in-github",
        "colab_type": "text"
      },
      "source": [
        "<a href=\"https://colab.research.google.com/github/parvathic/c-questions/blob/master/TwoSum.ipynb\" target=\"_parent\"><img src=\"https://colab.research.google.com/assets/colab-badge.svg\" alt=\"Open In Colab\"/></a>"
      ]
    },
    {
      "metadata": {
        "id": "mqo6amwx6eH_",
        "colab_type": "text"
      },
      "cell_type": "markdown",
      "source": [
        "# Two Sum: Given an array of integers, return indices of the two numbers such that they add up to a specific target.\n",
        "\n",
        "# You may assume that each input would have exactly one solution, and you may not use the same element twice."
      ]
    },
    {
      "metadata": {
        "id": "csQ-uF6R6ZaK",
        "colab_type": "code",
        "colab": {}
      },
      "cell_type": "code",
      "source": [
        "def twosum(arr, target):\n",
        "  dict = {}\n",
        "  if(len(arr)<=1):\n",
        "    return 0\n",
        "  for i in range(len(arr)):\n",
        "    if(arr[i] in dict):\n",
        "      return (dict[arr[i]], i)\n",
        "    else:\n",
        "      dict[target-arr[i]]=i"
      ],
      "execution_count": 0,
      "outputs": []
    },
    {
      "metadata": {
        "id": "FBW0Sg128qJX",
        "colab_type": "code",
        "colab": {
          "base_uri": "https://localhost:8080/",
          "height": 34
        },
        "outputId": "07460cab-af76-470f-e657-6508cb2a1787"
      },
      "cell_type": "code",
      "source": [
        "m=[4, 5, 8, 2, 3]\n",
        "p=5\n",
        "print(twosum(m,p))"
      ],
      "execution_count": 8,
      "outputs": [
        {
          "output_type": "stream",
          "text": [
            "(3, 4)\n"
          ],
          "name": "stdout"
        }
      ]
    },
    {
      "metadata": {
        "id": "WbVbjuUs9B1H",
        "colab_type": "code",
        "colab": {}
      },
      "cell_type": "code",
      "source": [
        ""
      ],
      "execution_count": 0,
      "outputs": []
    }
  ]
}