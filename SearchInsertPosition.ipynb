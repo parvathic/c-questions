{
  "nbformat": 4,
  "nbformat_minor": 0,
  "metadata": {
    "colab": {
      "name": "SearchInsertPosition.ipynb",
      "version": "0.3.2",
      "provenance": [],
      "include_colab_link": true
    },
    "kernelspec": {
      "name": "python3",
      "display_name": "Python 3"
    }
  },
  "cells": [
    {
      "cell_type": "markdown",
      "metadata": {
        "id": "view-in-github",
        "colab_type": "text"
      },
      "source": [
        "<a href=\"https://colab.research.google.com/github/parvathic/c-questions/blob/master/SearchInsertPosition.ipynb\" target=\"_parent\"><img src=\"https://colab.research.google.com/assets/colab-badge.svg\" alt=\"Open In Colab\"/></a>"
      ]
    },
    {
      "metadata": {
        "id": "EAmS8tjVrtoK",
        "colab_type": "text"
      },
      "cell_type": "markdown",
      "source": [
        "# Given a sorted array and a target value, return the index if the target is found. If not, return the index where it would be if it were inserted in order."
      ]
    },
    {
      "metadata": {
        "id": "RMxss3norlx-",
        "colab_type": "code",
        "colab": {}
      },
      "cell_type": "code",
      "source": [
        "def Insert(k, nums):\n",
        "  lo = 0\n",
        "  hi = len(nums) - 1\n",
        "  while lo<=hi:\n",
        "    mid = (lo+hi) // 2  \n",
        "    if(k==nums[mid]):\n",
        "      return mid\n",
        "    elif(k<nums[mid]):\n",
        "      hi = mid - 1\n",
        "    elif(k>nums[mid]):\n",
        "      lo=mid+1\n",
        "    else:\n",
        "      return 1\n",
        "    \n",
        "  if(lo>hi):\n",
        "    if(k<nums[0]):\n",
        "      return 0\n",
        "    elif(k>nums[hi]):\n",
        "      return hi + 1\n",
        "    else:\n",
        "      for i in hi:\n",
        "        if(k>nums[i] and k<nums[i+1]):\n",
        "          return i+1\n",
        "    \n",
        "    "
      ],
      "execution_count": 0,
      "outputs": []
    },
    {
      "metadata": {
        "id": "jxHD8JJDtBSN",
        "colab_type": "code",
        "colab": {}
      },
      "cell_type": "code",
      "source": [
        "s = [2, 3, 4 ,5]\n",
        "m = 2.5"
      ],
      "execution_count": 0,
      "outputs": []
    },
    {
      "metadata": {
        "id": "A8uJFtgCtHn4",
        "colab_type": "code",
        "outputId": "05fb200a-8f78-49e4-ea2d-ee9b451fe8b3",
        "colab": {
          "base_uri": "https://localhost:8080/",
          "height": 34
        }
      },
      "cell_type": "code",
      "source": [
        "print(Insert(m, s))"
      ],
      "execution_count": 3,
      "outputs": [
        {
          "output_type": "stream",
          "text": [
            "1\n"
          ],
          "name": "stdout"
        }
      ]
    },
    {
      "metadata": {
        "id": "e5KzhWQytJBr",
        "colab_type": "code",
        "colab": {}
      },
      "cell_type": "code",
      "source": [
        ""
      ],
      "execution_count": 0,
      "outputs": []
    }
  ]
}