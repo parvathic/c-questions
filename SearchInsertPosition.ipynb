{
  "nbformat": 4,
  "nbformat_minor": 0,
  "metadata": {
    "colab": {
      "name": "SearchInsertPosition.ipynb",
      "version": "0.3.2",
      "provenance": [],
      "include_colab_link": true
    },
    "kernelspec": {
      "name": "python3",
      "display_name": "Python 3"
    }
  },
  "cells": [
    {
      "cell_type": "markdown",
      "metadata": {
        "id": "view-in-github",
        "colab_type": "text"
      },
      "source": [
        "<a href=\"https://colab.research.google.com/github/parvathic/c-questions/blob/dev/SearchInsertPosition.ipynb\" target=\"_parent\"><img src=\"https://colab.research.google.com/assets/colab-badge.svg\" alt=\"Open In Colab\"/></a>"
      ]
    },
    {
      "metadata": {
        "id": "EAmS8tjVrtoK",
        "colab_type": "text"
      },
      "cell_type": "markdown",
      "source": [
        "# Given a sorted array and a target value, return the index if the target is found. If not, return the index where it would be if it were inserted in order."
      ]
    },
    {
      "metadata": {
        "id": "RMxss3norlx-",
        "colab_type": "code",
        "colab": {}
      },
      "cell_type": "code",
      "source": [
        "def Insert(k, nums):\n",
        "  lo = 0\n",
        "  hi = len(nums) - 1\n",
        "  while lo<=hi:\n",
        "    mid = (lo+(hi-lo)) // 2  \n",
        "    if(k<nums[mid]):\n",
        "      lo=0\n",
        "      hi=mid-1\n",
        "    elif(k==nums[mid]):\n",
        "      return mid\n",
        "    else:\n",
        "      lo=mid+1\n",
        "  return lo"
      ],
      "execution_count": 0,
      "outputs": []
    },
    {
      "metadata": {
        "id": "jxHD8JJDtBSN",
        "colab_type": "code",
        "colab": {}
      },
      "cell_type": "code",
      "source": [
        "s = [2, 3, 4 ,5 ,1]\n",
        "m = 1\n"
      ],
      "execution_count": 0,
      "outputs": []
    },
    {
      "metadata": {
        "id": "A8uJFtgCtHn4",
        "colab_type": "code",
        "colab": {
          "base_uri": "https://localhost:8080/",
          "height": 34
        },
        "outputId": "80ce9ce3-a8ce-443c-9408-e67f98f48bc9"
      },
      "cell_type": "code",
      "source": [
        "Insert(m, s)"
      ],
      "execution_count": 38,
      "outputs": [
        {
          "output_type": "execute_result",
          "data": {
            "text/plain": [
              "0"
            ]
          },
          "metadata": {
            "tags": []
          },
          "execution_count": 38
        }
      ]
    },
    {
      "metadata": {
        "id": "e5KzhWQytJBr",
        "colab_type": "code",
        "colab": {}
      },
      "cell_type": "code",
      "source": [
        ""
      ],
      "execution_count": 0,
      "outputs": []
    }
  ]
}