{
  "nbformat": 4,
  "nbformat_minor": 0,
  "metadata": {
    "colab": {
      "name": "N/Wing Trroubleshooting.ipynb",
      "version": "0.3.2",
      "provenance": [],
      "include_colab_link": true
    },
    "kernelspec": {
      "name": "python3",
      "display_name": "Python 3"
    }
  },
  "cells": [
    {
      "cell_type": "markdown",
      "metadata": {
        "id": "view-in-github",
        "colab_type": "text"
      },
      "source": [
        "<a href=\"https://colab.research.google.com/github/parvathic/python-ds-notebooks/blob/master/N_Wing_Trroubleshooting.ipynb\" target=\"_parent\"><img src=\"https://colab.research.google.com/assets/colab-badge.svg\" alt=\"Open In Colab\"/></a>"
      ]
    },
    {
      "cell_type": "code",
      "metadata": {
        "id": "z7dp0p6i4UuQ",
        "colab_type": "code",
        "colab": {}
      },
      "source": [
        ""
      ],
      "execution_count": 0,
      "outputs": []
    },
    {
      "cell_type": "markdown",
      "metadata": {
        "id": "UP6RVaA94e8n",
        "colab_type": "text"
      },
      "source": [
        "Network Troubleshooting tips:"
      ]
    },
    {
      "cell_type": "markdown",
      "metadata": {
        "id": "kd-5hiMN4VjI",
        "colab_type": "text"
      },
      "source": [
        "\n",
        "\n",
        "![alt text](http://download-hk.huawei.com/mdl/imgDownload?uuid=e3ed2beaca2f42b7a8c5e964071943d2.png)"
      ]
    }
  ]
}
